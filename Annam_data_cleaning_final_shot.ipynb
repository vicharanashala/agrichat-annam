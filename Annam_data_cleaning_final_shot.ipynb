{
  "nbformat": 4,
  "nbformat_minor": 0,
  "metadata": {
    "colab": {
      "provenance": []
    },
    "kernelspec": {
      "name": "python3",
      "display_name": "Python 3"
    },
    "language_info": {
      "name": "python"
    }
  },
  "cells": [
    {
      "cell_type": "code",
      "execution_count": null,
      "metadata": {
        "id": "GxCuMOKQHCln"
      },
      "outputs": [],
      "source": [
        "# STEP 1: INSTALL REQUIRED PACKAGES\n",
        "!pip install -q sentence-transformers scikit-learn"
      ]
    },
    {
      "cell_type": "code",
      "source": [
        "# STEP 2: MOUNT GOOGLE DRIVE\n",
        "from google.colab import drive\n",
        "drive.mount('/content/drive')"
      ],
      "metadata": {
        "id": "Xeg46YG6OkW4"
      },
      "execution_count": null,
      "outputs": []
    },
    {
      "cell_type": "code",
      "source": [
        "# STEP 3: IMPORT MODULES\n",
        "import pandas as pd\n",
        "import numpy as np\n",
        "import re\n",
        "from sentence_transformers import SentenceTransformer\n",
        "from sklearn.metrics.pairwise import cosine_similarity\n",
        "from tqdm.notebook import tqdm"
      ],
      "metadata": {
        "id": "Ekl1ntSpOmxf"
      },
      "execution_count": null,
      "outputs": []
    },
    {
      "cell_type": "code",
      "source": [
        "# STEP 4: CLEANING CLASS\n",
        "class DataCleaner:\n",
        "    def __init__(self, file_path):\n",
        "        self.df = pd.read_csv(file_path)\n",
        "        self.model = SentenceTransformer('all-MiniLM-L6-v2')\n",
        "        self.original_df = self.df.copy()\n",
        "        self.numeric_sector_df = pd.DataFrame()\n",
        "\n",
        "    def remove_columns(self):\n",
        "        cols_to_remove = ['Latitude', 'Longitude', 'QueryType', 'Category', 'Block']\n",
        "        self.df.drop(columns=[col for col in cols_to_remove if col in self.df.columns], inplace=True)\n",
        "\n",
        "    def remove_weather_queries(self):\n",
        "        if 'QueryText' in self.df.columns:\n",
        "            self.df = self.df[~self.df['QueryText'].str.contains('weather', case=False, na=False)]\n",
        "\n",
        "    def remove_semantically_similar_queries(self, threshold=0.9):\n",
        "        if 'QueryText' not in self.df.columns:\n",
        "            return\n",
        "        queries = self.df['QueryText'].dropna().unique()\n",
        "        embeddings = self.model.encode(queries, convert_to_tensor=True)\n",
        "\n",
        "        to_remove = set()\n",
        "        for i in range(len(queries)):\n",
        "            for j in range(i + 1, len(queries)):\n",
        "                sim = cosine_similarity([embeddings[i].cpu().numpy()], [embeddings[j].cpu().numpy()])[0][0]\n",
        "                if sim >= threshold:\n",
        "                    to_remove.add(queries[j])\n",
        "\n",
        "        self.df = self.df[~self.df['QueryText'].isin(to_remove)]\n",
        "\n",
        "    def clean_kcc_ans(self):\n",
        "        if 'KccAns' in self.df.columns:\n",
        "             self.df['KccAns'] = self.df['KccAns'].astype(str).apply(lambda x: re.sub(r'\\d+', '', x).strip())\n",
        "             self.df = self.df[self.df['KccAns'] != '']  # Remove rows where KccAns is now empty\n",
        "\n",
        "\n",
        "    def remove_numeric_sector_rows(self, sector_column='Sector'):\n",
        "        if sector_column in self.df.columns:\n",
        "            is_numeric = self.df[sector_column].apply(lambda x: str(x).isdigit())\n",
        "            self.numeric_sector_df = self.df[is_numeric]\n",
        "            self.df = self.df[~is_numeric]\n",
        "\n",
        "    def predict_crop_from_querytext(self, threshold=0.7):\n",
        "        if 'Crop' not in self.df.columns or 'QueryText' not in self.df.columns:\n",
        "            return\n",
        "\n",
        "        known_crop_queries = self.df[~self.df['Crop'].isna()][['QueryText', 'Crop']]\n",
        "        known_embeddings = self.model.encode(known_crop_queries['QueryText'].tolist(), convert_to_tensor=True)\n",
        "\n",
        "        for i, row in tqdm(self.df[self.df['Crop'].isna()].iterrows(), total=self.df['Crop'].isna().sum()):\n",
        "            query = row['QueryText']\n",
        "            if pd.isna(query): continue\n",
        "            query_embedding = self.model.encode([query], convert_to_tensor=True)\n",
        "            sims = cosine_similarity(query_embedding.cpu(), known_embeddings.cpu())[0]\n",
        "            best_idx = np.argmax(sims)\n",
        "            if sims[best_idx] >= threshold:\n",
        "                predicted_crop = known_crop_queries.iloc[best_idx]['Crop']\n",
        "                self.df.at[i, 'Crop'] = predicted_crop\n",
        "\n",
        "    def save_files(self, cleaned_path, numeric_sector_path):\n",
        "        self.df.to_csv(cleaned_path, index=False)\n",
        "        if not self.numeric_sector_df.empty:\n",
        "            self.numeric_sector_df.to_csv(numeric_sector_path, index=False)"
      ],
      "metadata": {
        "id": "EQdCYUGUOyL3"
      },
      "execution_count": null,
      "outputs": []
    },
    {
      "cell_type": "code",
      "source": [
        "# STEP 5: PROVIDE YOUR FILE PATH HERE\n",
        "# Replace this with your own file path from Drive\n",
        "file_path = '/content/drive/MyDrive/YourFolder/your_file.csv'  # <- UPDATE THIS\n"
      ],
      "metadata": {
        "id": "V_neo491Q-Ph"
      },
      "execution_count": null,
      "outputs": []
    },
    {
      "cell_type": "code",
      "source": [
        "# STEP 6: RUNNING EVERYTHING\n",
        "cleaner = DataCleaner(file_path)\n",
        "cleaner.remove_columns()\n",
        "cleaner.remove_weather_queries()\n",
        "cleaner.remove_semantically_similar_queries()\n",
        "cleaner.clean_kcc_ans()\n",
        "cleaner.remove_numeric_sector_rows()\n",
        "cleaner.predict_crop_from_querytext()\n"
      ],
      "metadata": {
        "id": "lADz8fNCRCOw"
      },
      "execution_count": null,
      "outputs": []
    },
    {
      "cell_type": "code",
      "source": [
        "# STEP 7: SAVE RESULTS\n",
        "clean_path = '/content/drive/MyDrive/YourFolder/cleaned_file.csv'          # <- UPDATE THIS\n",
        "numeric_path = '/content/drive/MyDrive/YourFolder/numeric_sector.csv'     # <- UPDATE THIS\n",
        "cleaner.save_files(clean_path, numeric_path)"
      ],
      "metadata": {
        "id": "rh496qbfREzY"
      },
      "execution_count": null,
      "outputs": []
    }
  ]
}