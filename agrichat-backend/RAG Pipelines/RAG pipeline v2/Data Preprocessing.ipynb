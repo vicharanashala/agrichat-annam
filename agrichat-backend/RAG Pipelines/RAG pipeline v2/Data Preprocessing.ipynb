{
 "cells": [
  {
   "cell_type": "code",
   "execution_count": 1,
   "metadata": {},
   "outputs": [],
   "source": [
    "import pandas as pd"
   ]
  },
  {
   "cell_type": "code",
   "execution_count": 2,
   "metadata": {},
   "outputs": [
    {
     "data": {
      "text/html": [
       "<div>\n",
       "<style scoped>\n",
       "    .dataframe tbody tr th:only-of-type {\n",
       "        vertical-align: middle;\n",
       "    }\n",
       "\n",
       "    .dataframe tbody tr th {\n",
       "        vertical-align: top;\n",
       "    }\n",
       "\n",
       "    .dataframe thead th {\n",
       "        text-align: right;\n",
       "    }\n",
       "</style>\n",
       "<table border=\"1\" class=\"dataframe\">\n",
       "  <thead>\n",
       "    <tr style=\"text-align: right;\">\n",
       "      <th></th>\n",
       "      <th>questions</th>\n",
       "      <th>answers</th>\n",
       "    </tr>\n",
       "  </thead>\n",
       "  <tbody>\n",
       "    <tr>\n",
       "      <th>0</th>\n",
       "      <td>asking about the control measure for aphid inf...</td>\n",
       "      <td>suggested him to spray rogor@2ml/lit.at evenin...</td>\n",
       "    </tr>\n",
       "    <tr>\n",
       "      <th>1</th>\n",
       "      <td>asking about the control measure of flower dro...</td>\n",
       "      <td>suggested him to apply fertilizer in recommend...</td>\n",
       "    </tr>\n",
       "    <tr>\n",
       "      <th>2</th>\n",
       "      <td>asking about how to avail kisan credit card lo...</td>\n",
       "      <td>suggested to consult with officer-marketing an...</td>\n",
       "    </tr>\n",
       "    <tr>\n",
       "      <th>3</th>\n",
       "      <td>asking about source of early ahu rice variety</td>\n",
       "      <td>suggested to take early ahu rice variety from ...</td>\n",
       "    </tr>\n",
       "    <tr>\n",
       "      <th>4</th>\n",
       "      <td>asking that he has not got proper friut from h...</td>\n",
       "      <td>suggested him to aplly recommended fertilizer ...</td>\n",
       "    </tr>\n",
       "  </tbody>\n",
       "</table>\n",
       "</div>"
      ],
      "text/plain": [
       "                                           questions  \\\n",
       "0  asking about the control measure for aphid inf...   \n",
       "1  asking about the control measure of flower dro...   \n",
       "2  asking about how to avail kisan credit card lo...   \n",
       "3      asking about source of early ahu rice variety   \n",
       "4  asking that he has not got proper friut from h...   \n",
       "\n",
       "                                             answers  \n",
       "0  suggested him to spray rogor@2ml/lit.at evenin...  \n",
       "1  suggested him to apply fertilizer in recommend...  \n",
       "2  suggested to consult with officer-marketing an...  \n",
       "3  suggested to take early ahu rice variety from ...  \n",
       "4  suggested him to aplly recommended fertilizer ...  "
      ]
     },
     "execution_count": 2,
     "metadata": {},
     "output_type": "execute_result"
    }
   ],
   "source": [
    "data = pd.read_csv(r\"C:\\Users\\amank\\Downloads\\Agri-chatbot-versions\\Agri-chatbot\\data\\questionsv4.csv\")\n",
    "data.head()"
   ]
  },
  {
   "cell_type": "code",
   "execution_count": 3,
   "metadata": {},
   "outputs": [
    {
     "data": {
      "text/plain": [
       "(178939, 2)"
      ]
     },
     "execution_count": 3,
     "metadata": {},
     "output_type": "execute_result"
    }
   ],
   "source": [
    "data.shape"
   ]
  },
  {
   "cell_type": "code",
   "execution_count": 4,
   "metadata": {},
   "outputs": [
    {
     "name": "stdout",
     "output_type": "stream",
     "text": [
      "Number of questions:  178939\n",
      "Number of answers:  178816\n"
     ]
    }
   ],
   "source": [
    "print(\"Number of questions: \", data['questions'].count())\n",
    "print(\"Number of answers: \", data['answers'].count())"
   ]
  },
  {
   "cell_type": "code",
   "execution_count": 5,
   "metadata": {},
   "outputs": [],
   "source": [
    "data['questions'] = data['questions'].str.lower()"
   ]
  },
  {
   "cell_type": "code",
   "execution_count": 6,
   "metadata": {},
   "outputs": [
    {
     "data": {
      "text/plain": [
       "questions      0\n",
       "answers      123\n",
       "dtype: int64"
      ]
     },
     "execution_count": 6,
     "metadata": {},
     "output_type": "execute_result"
    }
   ],
   "source": [
    "data.isna().sum()"
   ]
  },
  {
   "cell_type": "code",
   "execution_count": 7,
   "metadata": {},
   "outputs": [],
   "source": [
    "data.dropna(inplace=True)"
   ]
  },
  {
   "cell_type": "code",
   "execution_count": 8,
   "metadata": {},
   "outputs": [
    {
     "name": "stdout",
     "output_type": "stream",
     "text": [
      "Number of questions:  178816\n",
      "Number of answers:  178816\n"
     ]
    }
   ],
   "source": [
    "print(\"Number of questions: \", data['questions'].count())\n",
    "print(\"Number of answers: \", data['answers'].count())"
   ]
  },
  {
   "cell_type": "code",
   "execution_count": 9,
   "metadata": {},
   "outputs": [
    {
     "data": {
      "text/plain": [
       "(178816, 2)"
      ]
     },
     "execution_count": 9,
     "metadata": {},
     "output_type": "execute_result"
    }
   ],
   "source": [
    "data.shape"
   ]
  },
  {
   "cell_type": "code",
   "execution_count": 10,
   "metadata": {},
   "outputs": [],
   "source": [
    "data.reset_index(drop=True, inplace=True)"
   ]
  },
  {
   "cell_type": "code",
   "execution_count": 11,
   "metadata": {},
   "outputs": [
    {
     "data": {
      "text/plain": [
       "37791"
      ]
     },
     "execution_count": 11,
     "metadata": {},
     "output_type": "execute_result"
    }
   ],
   "source": [
    "data.duplicated().sum()"
   ]
  },
  {
   "cell_type": "code",
   "execution_count": 12,
   "metadata": {},
   "outputs": [
    {
     "data": {
      "text/plain": [
       "questions    asking about the control measure to control la...\n",
       "answers      suggested to apply dithane m-45@2gram/liter of...\n",
       "Name: 57, dtype: object"
      ]
     },
     "execution_count": 12,
     "metadata": {},
     "output_type": "execute_result"
    }
   ],
   "source": [
    "data.iloc[57]"
   ]
  },
  {
   "cell_type": "code",
   "execution_count": 13,
   "metadata": {},
   "outputs": [
    {
     "data": {
      "text/plain": [
       "'asking about the control measure to control late blight disease infestation in potato'"
      ]
     },
     "execution_count": 13,
     "metadata": {},
     "output_type": "execute_result"
    }
   ],
   "source": [
    "data['questions'].iloc[57]"
   ]
  },
  {
   "cell_type": "code",
   "execution_count": 14,
   "metadata": {},
   "outputs": [
    {
     "data": {
      "text/plain": [
       "'suggested to apply dithane m-45@2gram/liter of water alternating with ridomil mz-72@2gram/liter of water at 7-10 days interval for 3-4 times'"
      ]
     },
     "execution_count": 14,
     "metadata": {},
     "output_type": "execute_result"
    }
   ],
   "source": [
    "data['answers'].iloc[57]"
   ]
  },
  {
   "cell_type": "code",
   "execution_count": 15,
   "metadata": {},
   "outputs": [
    {
     "data": {
      "text/plain": [
       "'asking about the control measure to control fruit rot problem of cucumber.'"
      ]
     },
     "execution_count": 15,
     "metadata": {},
     "output_type": "execute_result"
    }
   ],
   "source": [
    "data['questions'].iloc[103]"
   ]
  },
  {
   "cell_type": "code",
   "execution_count": 16,
   "metadata": {},
   "outputs": [
    {
     "data": {
      "text/plain": [
       "'suggested to apply dithane m-45@2.5gram/liter of water.'"
      ]
     },
     "execution_count": 16,
     "metadata": {},
     "output_type": "execute_result"
    }
   ],
   "source": [
    "data['answers'].iloc[103]"
   ]
  },
  {
   "cell_type": "code",
   "execution_count": 17,
   "metadata": {},
   "outputs": [
    {
     "data": {
      "text/plain": [
       "'asking about the control measure to control late blight disease in potato.'"
      ]
     },
     "execution_count": 17,
     "metadata": {},
     "output_type": "execute_result"
    }
   ],
   "source": [
    "data['questions'].iloc[208] "
   ]
  },
  {
   "cell_type": "code",
   "execution_count": 18,
   "metadata": {},
   "outputs": [
    {
     "data": {
      "text/plain": [
       "'suggested to apply dithane m-45@2.5gram/liter of water alternating with ridomil mz-72@2gram/liter of water at 7-10 days interval'"
      ]
     },
     "execution_count": 18,
     "metadata": {},
     "output_type": "execute_result"
    }
   ],
   "source": [
    "data['answers'].iloc[208]"
   ]
  },
  {
   "cell_type": "code",
   "execution_count": 20,
   "metadata": {
    "vscode": {
     "languageId": "powershell"
    }
   },
   "outputs": [
    {
     "data": {
      "text/html": [
       "<div>\n",
       "<style scoped>\n",
       "    .dataframe tbody tr th:only-of-type {\n",
       "        vertical-align: middle;\n",
       "    }\n",
       "\n",
       "    .dataframe tbody tr th {\n",
       "        vertical-align: top;\n",
       "    }\n",
       "\n",
       "    .dataframe thead th {\n",
       "        text-align: right;\n",
       "    }\n",
       "</style>\n",
       "<table border=\"1\" class=\"dataframe\">\n",
       "  <thead>\n",
       "    <tr style=\"text-align: right;\">\n",
       "      <th></th>\n",
       "      <th>questions</th>\n",
       "      <th>answers</th>\n",
       "    </tr>\n",
       "  </thead>\n",
       "  <tbody>\n",
       "    <tr>\n",
       "      <th>57</th>\n",
       "      <td>asking about the control measure to control la...</td>\n",
       "      <td>suggested to apply dithane m-45@2gram/liter of...</td>\n",
       "    </tr>\n",
       "    <tr>\n",
       "      <th>103</th>\n",
       "      <td>asking about the control measure to control fr...</td>\n",
       "      <td>suggested to apply dithane m-45@2.5gram/liter ...</td>\n",
       "    </tr>\n",
       "    <tr>\n",
       "      <th>208</th>\n",
       "      <td>asking about the control measure to control la...</td>\n",
       "      <td>suggested to apply dithane m-45@2.5gram/liter ...</td>\n",
       "    </tr>\n",
       "    <tr>\n",
       "      <th>230</th>\n",
       "      <td>asking about treatment of diarrhoea in cow.</td>\n",
       "      <td>suggested to administer 3 care bolus @ 2 bolus...</td>\n",
       "    </tr>\n",
       "    <tr>\n",
       "      <th>236</th>\n",
       "      <td>asking about the control measure to control la...</td>\n",
       "      <td>suggested to apply dithane m-45@2.5gram/liter ...</td>\n",
       "    </tr>\n",
       "    <tr>\n",
       "      <th>...</th>\n",
       "      <td>...</td>\n",
       "      <td>...</td>\n",
       "    </tr>\n",
       "    <tr>\n",
       "      <th>178768</th>\n",
       "      <td>query regarding pmkisan.</td>\n",
       "      <td>please visit your nearest agriculture office f...</td>\n",
       "    </tr>\n",
       "    <tr>\n",
       "      <th>178778</th>\n",
       "      <td>query regarding sashi plantation.</td>\n",
       "      <td>visit district forest department.</td>\n",
       "    </tr>\n",
       "    <tr>\n",
       "      <th>178789</th>\n",
       "      <td>farmer asking query regarding fertilizer dose ...</td>\n",
       "      <td>apply the recommended doses of fertilizer- ure...</td>\n",
       "    </tr>\n",
       "    <tr>\n",
       "      <th>178799</th>\n",
       "      <td>asking about chilli leaf curl virus\\n</td>\n",
       "      <td>burn the effected plants in a separate area an...</td>\n",
       "    </tr>\n",
       "    <tr>\n",
       "      <th>178807</th>\n",
       "      <td>farmer asking query regarding control of dampi...</td>\n",
       "      <td>spray saaf (2g/lit of water) @ 3 spray at 5 da...</td>\n",
       "    </tr>\n",
       "  </tbody>\n",
       "</table>\n",
       "<p>37791 rows × 2 columns</p>\n",
       "</div>"
      ],
      "text/plain": [
       "                                                questions  \\\n",
       "57      asking about the control measure to control la...   \n",
       "103     asking about the control measure to control fr...   \n",
       "208     asking about the control measure to control la...   \n",
       "230           asking about treatment of diarrhoea in cow.   \n",
       "236     asking about the control measure to control la...   \n",
       "...                                                   ...   \n",
       "178768                           query regarding pmkisan.   \n",
       "178778                  query regarding sashi plantation.   \n",
       "178789  farmer asking query regarding fertilizer dose ...   \n",
       "178799              asking about chilli leaf curl virus\\n   \n",
       "178807  farmer asking query regarding control of dampi...   \n",
       "\n",
       "                                                  answers  \n",
       "57      suggested to apply dithane m-45@2gram/liter of...  \n",
       "103     suggested to apply dithane m-45@2.5gram/liter ...  \n",
       "208     suggested to apply dithane m-45@2.5gram/liter ...  \n",
       "230     suggested to administer 3 care bolus @ 2 bolus...  \n",
       "236     suggested to apply dithane m-45@2.5gram/liter ...  \n",
       "...                                                   ...  \n",
       "178768  please visit your nearest agriculture office f...  \n",
       "178778                  visit district forest department.  \n",
       "178789  apply the recommended doses of fertilizer- ure...  \n",
       "178799  burn the effected plants in a separate area an...  \n",
       "178807  spray saaf (2g/lit of water) @ 3 spray at 5 da...  \n",
       "\n",
       "[37791 rows x 2 columns]"
      ]
     },
     "execution_count": 20,
     "metadata": {},
     "output_type": "execute_result"
    }
   ],
   "source": [
    "duplicates = data[data.duplicated()]\n",
    "duplicates"
   ]
  },
  {
   "cell_type": "code",
   "execution_count": 21,
   "metadata": {
    "vscode": {
     "languageId": "powershell"
    }
   },
   "outputs": [
    {
     "data": {
      "text/html": [
       "<div>\n",
       "<style scoped>\n",
       "    .dataframe tbody tr th:only-of-type {\n",
       "        vertical-align: middle;\n",
       "    }\n",
       "\n",
       "    .dataframe tbody tr th {\n",
       "        vertical-align: top;\n",
       "    }\n",
       "\n",
       "    .dataframe thead th {\n",
       "        text-align: right;\n",
       "    }\n",
       "</style>\n",
       "<table border=\"1\" class=\"dataframe\">\n",
       "  <thead>\n",
       "    <tr style=\"text-align: right;\">\n",
       "      <th></th>\n",
       "      <th>questions</th>\n",
       "      <th>answers</th>\n",
       "    </tr>\n",
       "  </thead>\n",
       "  <tbody>\n",
       "    <tr>\n",
       "      <th>57</th>\n",
       "      <td>asking about the control measure to control la...</td>\n",
       "      <td>suggested to apply dithane m-45@2gram/liter of...</td>\n",
       "    </tr>\n",
       "    <tr>\n",
       "      <th>88</th>\n",
       "      <td>asking about treatment of diarrhoea in cow.</td>\n",
       "      <td>suggested to administer neblon powder @ 50 gm ...</td>\n",
       "    </tr>\n",
       "    <tr>\n",
       "      <th>91</th>\n",
       "      <td>asking about treatment of white diarrhoea of p...</td>\n",
       "      <td>suggested him to administer hostacycline powde...</td>\n",
       "    </tr>\n",
       "    <tr>\n",
       "      <th>103</th>\n",
       "      <td>asking about the control measure to control fr...</td>\n",
       "      <td>suggested to apply dithane m-45@2.5gram/liter ...</td>\n",
       "    </tr>\n",
       "    <tr>\n",
       "      <th>116</th>\n",
       "      <td>asking about treatment of anoestrus in cow.</td>\n",
       "      <td>suggested to administer prajana capsule @3 cap...</td>\n",
       "    </tr>\n",
       "    <tr>\n",
       "      <th>...</th>\n",
       "      <td>...</td>\n",
       "      <td>...</td>\n",
       "    </tr>\n",
       "    <tr>\n",
       "      <th>178803</th>\n",
       "      <td>asking about the sowing time of brinjal.</td>\n",
       "      <td>sowing season is october to november.</td>\n",
       "    </tr>\n",
       "    <tr>\n",
       "      <th>178804</th>\n",
       "      <td>query regarding pond management.</td>\n",
       "      <td>pond management-\\n 1. dewatering and pond dryi...</td>\n",
       "    </tr>\n",
       "    <tr>\n",
       "      <th>178807</th>\n",
       "      <td>farmer asking query regarding control of dampi...</td>\n",
       "      <td>spray saaf (2g/lit of water) @ 3 spray at 5 da...</td>\n",
       "    </tr>\n",
       "    <tr>\n",
       "      <th>178808</th>\n",
       "      <td>asking that his cow is suffering from mastitis.</td>\n",
       "      <td>tr.: 1. intacef 3 gm 5 no.s @ 1 vial i/m ly da...</td>\n",
       "    </tr>\n",
       "    <tr>\n",
       "      <th>178815</th>\n",
       "      <td>asking about plant protection in pumpkin</td>\n",
       "      <td>--</td>\n",
       "    </tr>\n",
       "  </tbody>\n",
       "</table>\n",
       "<p>87930 rows × 2 columns</p>\n",
       "</div>"
      ],
      "text/plain": [
       "                                                questions  \\\n",
       "57      asking about the control measure to control la...   \n",
       "88            asking about treatment of diarrhoea in cow.   \n",
       "91      asking about treatment of white diarrhoea of p...   \n",
       "103     asking about the control measure to control fr...   \n",
       "116           asking about treatment of anoestrus in cow.   \n",
       "...                                                   ...   \n",
       "178803           asking about the sowing time of brinjal.   \n",
       "178804                   query regarding pond management.   \n",
       "178807  farmer asking query regarding control of dampi...   \n",
       "178808    asking that his cow is suffering from mastitis.   \n",
       "178815           asking about plant protection in pumpkin   \n",
       "\n",
       "                                                  answers  \n",
       "57      suggested to apply dithane m-45@2gram/liter of...  \n",
       "88      suggested to administer neblon powder @ 50 gm ...  \n",
       "91      suggested him to administer hostacycline powde...  \n",
       "103     suggested to apply dithane m-45@2.5gram/liter ...  \n",
       "116     suggested to administer prajana capsule @3 cap...  \n",
       "...                                                   ...  \n",
       "178803              sowing season is october to november.  \n",
       "178804  pond management-\\n 1. dewatering and pond dryi...  \n",
       "178807  spray saaf (2g/lit of water) @ 3 spray at 5 da...  \n",
       "178808  tr.: 1. intacef 3 gm 5 no.s @ 1 vial i/m ly da...  \n",
       "178815                                                 --  \n",
       "\n",
       "[87930 rows x 2 columns]"
      ]
     },
     "execution_count": 21,
     "metadata": {},
     "output_type": "execute_result"
    }
   ],
   "source": [
    "duplicates = data[data.duplicated(subset=[\"questions\"])]\n",
    "duplicates"
   ]
  },
  {
   "cell_type": "code",
   "execution_count": 22,
   "metadata": {
    "vscode": {
     "languageId": "powershell"
    }
   },
   "outputs": [
    {
     "data": {
      "text/html": [
       "<div>\n",
       "<style scoped>\n",
       "    .dataframe tbody tr th:only-of-type {\n",
       "        vertical-align: middle;\n",
       "    }\n",
       "\n",
       "    .dataframe tbody tr th {\n",
       "        vertical-align: top;\n",
       "    }\n",
       "\n",
       "    .dataframe thead th {\n",
       "        text-align: right;\n",
       "    }\n",
       "</style>\n",
       "<table border=\"1\" class=\"dataframe\">\n",
       "  <thead>\n",
       "    <tr style=\"text-align: right;\">\n",
       "      <th></th>\n",
       "      <th>questions</th>\n",
       "      <th>answers</th>\n",
       "    </tr>\n",
       "  </thead>\n",
       "  <tbody>\n",
       "    <tr>\n",
       "      <th>3331</th>\n",
       "      <td>query about pm kisan samman nidhi</td>\n",
       "      <td>--</td>\n",
       "    </tr>\n",
       "    <tr>\n",
       "      <th>3364</th>\n",
       "      <td>query  regarding a cow showing the signs of d...</td>\n",
       "      <td>--</td>\n",
       "    </tr>\n",
       "    <tr>\n",
       "      <th>3520</th>\n",
       "      <td>other state call</td>\n",
       "      <td>--</td>\n",
       "    </tr>\n",
       "    <tr>\n",
       "      <th>3636</th>\n",
       "      <td>incomplete call</td>\n",
       "      <td>--</td>\n",
       "    </tr>\n",
       "    <tr>\n",
       "      <th>5457</th>\n",
       "      <td>query about pm kisan samman nidhi.</td>\n",
       "      <td>--</td>\n",
       "    </tr>\n",
       "    <tr>\n",
       "      <th>...</th>\n",
       "      <td>...</td>\n",
       "      <td>...</td>\n",
       "    </tr>\n",
       "    <tr>\n",
       "      <th>177984</th>\n",
       "      <td>query regarding a cow showing the signs of fo...</td>\n",
       "      <td>--</td>\n",
       "    </tr>\n",
       "    <tr>\n",
       "      <th>177988</th>\n",
       "      <td>incomplete call</td>\n",
       "      <td>--</td>\n",
       "    </tr>\n",
       "    <tr>\n",
       "      <th>178648</th>\n",
       "      <td>asking about control measure of sooty mould of...</td>\n",
       "      <td>--</td>\n",
       "    </tr>\n",
       "    <tr>\n",
       "      <th>178688</th>\n",
       "      <td>query about pig rearing.</td>\n",
       "      <td>--</td>\n",
       "    </tr>\n",
       "    <tr>\n",
       "      <th>178815</th>\n",
       "      <td>asking about plant protection in pumpkin</td>\n",
       "      <td>--</td>\n",
       "    </tr>\n",
       "  </tbody>\n",
       "</table>\n",
       "<p>116 rows × 2 columns</p>\n",
       "</div>"
      ],
      "text/plain": [
       "                                                questions answers\n",
       "3331                    query about pm kisan samman nidhi      --\n",
       "3364     query  regarding a cow showing the signs of d...      --\n",
       "3520                                     other state call      --\n",
       "3636                                      incomplete call      --\n",
       "5457                   query about pm kisan samman nidhi.      --\n",
       "...                                                   ...     ...\n",
       "177984   query regarding a cow showing the signs of fo...      --\n",
       "177988                                   incomplete call       --\n",
       "178648  asking about control measure of sooty mould of...      --\n",
       "178688                           query about pig rearing.      --\n",
       "178815           asking about plant protection in pumpkin      --\n",
       "\n",
       "[116 rows x 2 columns]"
      ]
     },
     "execution_count": 22,
     "metadata": {},
     "output_type": "execute_result"
    }
   ],
   "source": [
    "hyphen_rows = data[data['answers'].astype(str).str.strip('-') == \"\"]\n",
    "hyphen_rows"
   ]
  },
  {
   "cell_type": "code",
   "execution_count": 23,
   "metadata": {
    "vscode": {
     "languageId": "powershell"
    }
   },
   "outputs": [],
   "source": [
    "data = data[~data['answers'].astype(str).str.strip('-').eq(\"\")]"
   ]
  },
  {
   "cell_type": "code",
   "execution_count": 24,
   "metadata": {
    "vscode": {
     "languageId": "powershell"
    }
   },
   "outputs": [
    {
     "data": {
      "text/plain": [
       "(178700, 2)"
      ]
     },
     "execution_count": 24,
     "metadata": {},
     "output_type": "execute_result"
    }
   ],
   "source": [
    "data.shape"
   ]
  },
  {
   "cell_type": "code",
   "execution_count": 25,
   "metadata": {
    "vscode": {
     "languageId": "powershell"
    }
   },
   "outputs": [
    {
     "data": {
      "text/html": [
       "<div>\n",
       "<style scoped>\n",
       "    .dataframe tbody tr th:only-of-type {\n",
       "        vertical-align: middle;\n",
       "    }\n",
       "\n",
       "    .dataframe tbody tr th {\n",
       "        vertical-align: top;\n",
       "    }\n",
       "\n",
       "    .dataframe thead th {\n",
       "        text-align: right;\n",
       "    }\n",
       "</style>\n",
       "<table border=\"1\" class=\"dataframe\">\n",
       "  <thead>\n",
       "    <tr style=\"text-align: right;\">\n",
       "      <th></th>\n",
       "      <th>questions</th>\n",
       "      <th>answers</th>\n",
       "    </tr>\n",
       "  </thead>\n",
       "  <tbody>\n",
       "    <tr>\n",
       "      <th>35705</th>\n",
       "      <td>test call</td>\n",
       "      <td>thanks</td>\n",
       "    </tr>\n",
       "    <tr>\n",
       "      <th>67761</th>\n",
       "      <td>a test call from exchange and also asked about...</td>\n",
       "      <td>given details about the number 1551 and its se...</td>\n",
       "    </tr>\n",
       "    <tr>\n",
       "      <th>114982</th>\n",
       "      <td>test call</td>\n",
       "      <td>টেস্ট কল</td>\n",
       "    </tr>\n",
       "    <tr>\n",
       "      <th>129261</th>\n",
       "      <td>test calls\\n\\n\\n\\n</td>\n",
       "      <td>टेस्ट कॉल</td>\n",
       "    </tr>\n",
       "    <tr>\n",
       "      <th>129262</th>\n",
       "      <td>test call</td>\n",
       "      <td>thank you</td>\n",
       "    </tr>\n",
       "    <tr>\n",
       "      <th>129263</th>\n",
       "      <td>test call</td>\n",
       "      <td>thank you</td>\n",
       "    </tr>\n",
       "    <tr>\n",
       "      <th>129264</th>\n",
       "      <td>test call</td>\n",
       "      <td>thank you</td>\n",
       "    </tr>\n",
       "  </tbody>\n",
       "</table>\n",
       "</div>"
      ],
      "text/plain": [
       "                                                questions  \\\n",
       "35705                                          test call    \n",
       "67761   a test call from exchange and also asked about...   \n",
       "114982                                         test call    \n",
       "129261                                 test calls\\n\\n\\n\\n   \n",
       "129262                                         test call    \n",
       "129263                                         test call    \n",
       "129264                                         test call    \n",
       "\n",
       "                                                  answers  \n",
       "35705                                              thanks  \n",
       "67761   given details about the number 1551 and its se...  \n",
       "114982                                          টেস্ট কল   \n",
       "129261                                         टेस्ट कॉल   \n",
       "129262                                          thank you  \n",
       "129263                                          thank you  \n",
       "129264                                          thank you  "
      ]
     },
     "execution_count": 25,
     "metadata": {},
     "output_type": "execute_result"
    }
   ],
   "source": [
    "call_transferred_rows = data[data['questions'].str.contains(\"test call\", case=False, na=False)]\n",
    "call_transferred_rows"
   ]
  },
  {
   "cell_type": "code",
   "execution_count": 26,
   "metadata": {
    "vscode": {
     "languageId": "powershell"
    }
   },
   "outputs": [
    {
     "data": {
      "text/plain": [
       "(178693, 2)"
      ]
     },
     "execution_count": 26,
     "metadata": {},
     "output_type": "execute_result"
    }
   ],
   "source": [
    "data = data[~data['questions'].str.contains(\"test call\", case=False, na=False)]\n",
    "data.shape"
   ]
  },
  {
   "cell_type": "code",
   "execution_count": 27,
   "metadata": {},
   "outputs": [
    {
     "data": {
      "text/html": [
       "<div>\n",
       "<style scoped>\n",
       "    .dataframe tbody tr th:only-of-type {\n",
       "        vertical-align: middle;\n",
       "    }\n",
       "\n",
       "    .dataframe tbody tr th {\n",
       "        vertical-align: top;\n",
       "    }\n",
       "\n",
       "    .dataframe thead th {\n",
       "        text-align: right;\n",
       "    }\n",
       "</style>\n",
       "<table border=\"1\" class=\"dataframe\">\n",
       "  <thead>\n",
       "    <tr style=\"text-align: right;\">\n",
       "      <th></th>\n",
       "      <th>questions</th>\n",
       "      <th>answers</th>\n",
       "    </tr>\n",
       "  </thead>\n",
       "  <tbody>\n",
       "    <tr>\n",
       "      <th>481</th>\n",
       "      <td>agri qwerry</td>\n",
       "      <td>transfered to expert</td>\n",
       "    </tr>\n",
       "    <tr>\n",
       "      <th>484</th>\n",
       "      <td>agri qwerry</td>\n",
       "      <td>transfered to expert</td>\n",
       "    </tr>\n",
       "    <tr>\n",
       "      <th>488</th>\n",
       "      <td>asking about agri problem</td>\n",
       "      <td>transfered to agri expert</td>\n",
       "    </tr>\n",
       "    <tr>\n",
       "      <th>497</th>\n",
       "      <td>query is related to agriculture.</td>\n",
       "      <td>successfully transfered to agri expert.</td>\n",
       "    </tr>\n",
       "    <tr>\n",
       "      <th>857</th>\n",
       "      <td>asked about poultry</td>\n",
       "      <td>transfered</td>\n",
       "    </tr>\n",
       "    <tr>\n",
       "      <th>...</th>\n",
       "      <td>...</td>\n",
       "      <td>...</td>\n",
       "    </tr>\n",
       "    <tr>\n",
       "      <th>176440</th>\n",
       "      <td>other state call</td>\n",
       "      <td>transfered to assam</td>\n",
       "    </tr>\n",
       "    <tr>\n",
       "      <th>177402</th>\n",
       "      <td>agril. related query</td>\n",
       "      <td>transfered to expert</td>\n",
       "    </tr>\n",
       "    <tr>\n",
       "      <th>177415</th>\n",
       "      <td>agri query</td>\n",
       "      <td>transfered</td>\n",
       "    </tr>\n",
       "    <tr>\n",
       "      <th>177428</th>\n",
       "      <td>query regarding water management for boro paddy</td>\n",
       "      <td>transfered to expert</td>\n",
       "    </tr>\n",
       "    <tr>\n",
       "      <th>178076</th>\n",
       "      <td>query regarding disease in potato</td>\n",
       "      <td>registered and transfered to agri expert</td>\n",
       "    </tr>\n",
       "  </tbody>\n",
       "</table>\n",
       "<p>1224 rows × 2 columns</p>\n",
       "</div>"
      ],
      "text/plain": [
       "                                              questions  \\\n",
       "481                                         agri qwerry   \n",
       "484                                         agri qwerry   \n",
       "488                           asking about agri problem   \n",
       "497                    query is related to agriculture.   \n",
       "857                                 asked about poultry   \n",
       "...                                                 ...   \n",
       "176440                                other state call    \n",
       "177402                             agril. related query   \n",
       "177415                                       agri query   \n",
       "177428  query regarding water management for boro paddy   \n",
       "178076                query regarding disease in potato   \n",
       "\n",
       "                                         answers  \n",
       "481                         transfered to expert  \n",
       "484                         transfered to expert  \n",
       "488                    transfered to agri expert  \n",
       "497      successfully transfered to agri expert.  \n",
       "857                                   transfered  \n",
       "...                                          ...  \n",
       "176440                       transfered to assam  \n",
       "177402                      transfered to expert  \n",
       "177415                                transfered  \n",
       "177428                      transfered to expert  \n",
       "178076  registered and transfered to agri expert  \n",
       "\n",
       "[1224 rows x 2 columns]"
      ]
     },
     "execution_count": 27,
     "metadata": {},
     "output_type": "execute_result"
    }
   ],
   "source": [
    "call_transferred_rows = data[data['answers'].str.contains(\"transfered\", case=False, na=False)]\n",
    "call_transferred_rows"
   ]
  },
  {
   "cell_type": "code",
   "execution_count": 28,
   "metadata": {},
   "outputs": [
    {
     "data": {
      "text/plain": [
       "(177469, 2)"
      ]
     },
     "execution_count": 28,
     "metadata": {},
     "output_type": "execute_result"
    }
   ],
   "source": [
    "data = data[~data['answers'].str.contains(\"transfered\", case=False, na=False)]\n",
    "data.shape"
   ]
  },
  {
   "cell_type": "code",
   "execution_count": 29,
   "metadata": {},
   "outputs": [
    {
     "data": {
      "text/html": [
       "<div>\n",
       "<style scoped>\n",
       "    .dataframe tbody tr th:only-of-type {\n",
       "        vertical-align: middle;\n",
       "    }\n",
       "\n",
       "    .dataframe tbody tr th {\n",
       "        vertical-align: top;\n",
       "    }\n",
       "\n",
       "    .dataframe thead th {\n",
       "        text-align: right;\n",
       "    }\n",
       "</style>\n",
       "<table border=\"1\" class=\"dataframe\">\n",
       "  <thead>\n",
       "    <tr style=\"text-align: right;\">\n",
       "      <th></th>\n",
       "      <th>questions</th>\n",
       "      <th>answers</th>\n",
       "    </tr>\n",
       "  </thead>\n",
       "  <tbody>\n",
       "    <tr>\n",
       "      <th>3182</th>\n",
       "      <td>asking about control of fungal infection</td>\n",
       "      <td>???????? ????? ????? ????? ????? ?????? ? ??? ...</td>\n",
       "    </tr>\n",
       "    <tr>\n",
       "      <th>3183</th>\n",
       "      <td>asking about different govt schemes</td>\n",
       "      <td>?????? ??????? ???? ????? ????? ??? ????</td>\n",
       "    </tr>\n",
       "    <tr>\n",
       "      <th>3190</th>\n",
       "      <td>other state call</td>\n",
       "      <td>???? ?? ??????????</td>\n",
       "    </tr>\n",
       "    <tr>\n",
       "      <th>3202</th>\n",
       "      <td>asking about boro paddy variety.</td>\n",
       "      <td>???? ???? ??????? ??- ?????, ????????????, ???...</td>\n",
       "    </tr>\n",
       "    <tr>\n",
       "      <th>3317</th>\n",
       "      <td>tell me about the control of french bean ? \\n</td>\n",
       "      <td>--कार्बेन्डाजिम 12% + मेंकोजेब 63% डब्लू.पी.(स...</td>\n",
       "    </tr>\n",
       "    <tr>\n",
       "      <th>...</th>\n",
       "      <td>...</td>\n",
       "      <td>...</td>\n",
       "    </tr>\n",
       "    <tr>\n",
       "      <th>177316</th>\n",
       "      <td>farmer needs information regarding pradhan man...</td>\n",
       "      <td>प्रिय किसान भाई प्रधानमंत्री किसान सम्मान निधि...</td>\n",
       "    </tr>\n",
       "    <tr>\n",
       "      <th>177950</th>\n",
       "      <td>asked about kisan call center\\n</td>\n",
       "      <td>কৃষি সমবধিও সমোশিয়া থাকিলে কিষান কল সেন্টাৰ - ...</td>\n",
       "    </tr>\n",
       "    <tr>\n",
       "      <th>177954</th>\n",
       "      <td>asking about yellowing of arecanut tree</td>\n",
       "      <td>\\nपेड़ से 0.75–1 मीटर की दूरी पर रिंग बनाएं और...</td>\n",
       "    </tr>\n",
       "    <tr>\n",
       "      <th>178609</th>\n",
       "      <td>asking about control of nematode</td>\n",
       "      <td>????????? ??? ????? ???? ???  ?? ????? ??  ???...</td>\n",
       "    </tr>\n",
       "    <tr>\n",
       "      <th>178692</th>\n",
       "      <td>tell me about how to apply pm kisan registrati...</td>\n",
       "      <td>प्रधानमंत्री किसान सम्मान निधि योजना का ऑनलाइन...</td>\n",
       "    </tr>\n",
       "  </tbody>\n",
       "</table>\n",
       "<p>401 rows × 2 columns</p>\n",
       "</div>"
      ],
      "text/plain": [
       "                                                questions  \\\n",
       "3182             asking about control of fungal infection   \n",
       "3183                  asking about different govt schemes   \n",
       "3190                                     other state call   \n",
       "3202                     asking about boro paddy variety.   \n",
       "3317        tell me about the control of french bean ? \\n   \n",
       "...                                                   ...   \n",
       "177316  farmer needs information regarding pradhan man...   \n",
       "177950                    asked about kisan call center\\n   \n",
       "177954          asking about yellowing of arecanut tree     \n",
       "178609                   asking about control of nematode   \n",
       "178692  tell me about how to apply pm kisan registrati...   \n",
       "\n",
       "                                                  answers  \n",
       "3182    ???????? ????? ????? ????? ????? ?????? ? ??? ...  \n",
       "3183            ?????? ??????? ???? ????? ????? ??? ????   \n",
       "3190                                   ???? ?? ??????????  \n",
       "3202    ???? ???? ??????? ??- ?????, ????????????, ???...  \n",
       "3317    --कार्बेन्डाजिम 12% + मेंकोजेब 63% डब्लू.पी.(स...  \n",
       "...                                                   ...  \n",
       "177316  प्रिय किसान भाई प्रधानमंत्री किसान सम्मान निधि...  \n",
       "177950  কৃষি সমবধিও সমোশিয়া থাকিলে কিষান কল সেন্টাৰ - ...  \n",
       "177954  \\nपेड़ से 0.75–1 मीटर की दूरी पर रिंग बनाएं और...  \n",
       "178609  ????????? ??? ????? ???? ???  ?? ????? ??  ???...  \n",
       "178692  प्रधानमंत्री किसान सम्मान निधि योजना का ऑनलाइन...  \n",
       "\n",
       "[401 rows x 2 columns]"
      ]
     },
     "execution_count": 29,
     "metadata": {},
     "output_type": "execute_result"
    }
   ],
   "source": [
    "import re\n",
    "\n",
    "def contains_alphabet(value):\n",
    "    return bool(re.search(r'[a-zA-Z]', str(value)))\n",
    "\n",
    "df_without_letters = data[~data['answers'].astype(str).apply(contains_alphabet)]\n",
    "df_without_letters"
   ]
  },
  {
   "cell_type": "code",
   "execution_count": 30,
   "metadata": {},
   "outputs": [
    {
     "data": {
      "text/html": [
       "<div>\n",
       "<style scoped>\n",
       "    .dataframe tbody tr th:only-of-type {\n",
       "        vertical-align: middle;\n",
       "    }\n",
       "\n",
       "    .dataframe tbody tr th {\n",
       "        vertical-align: top;\n",
       "    }\n",
       "\n",
       "    .dataframe thead th {\n",
       "        text-align: right;\n",
       "    }\n",
       "</style>\n",
       "<table border=\"1\" class=\"dataframe\">\n",
       "  <thead>\n",
       "    <tr style=\"text-align: right;\">\n",
       "      <th></th>\n",
       "      <th>questions</th>\n",
       "      <th>answers</th>\n",
       "    </tr>\n",
       "  </thead>\n",
       "  <tbody>\n",
       "    <tr>\n",
       "      <th>0</th>\n",
       "      <td>asking about the control measure for aphid inf...</td>\n",
       "      <td>suggested him to spray rogor@2ml/lit.at evenin...</td>\n",
       "    </tr>\n",
       "    <tr>\n",
       "      <th>1</th>\n",
       "      <td>asking about the control measure of flower dro...</td>\n",
       "      <td>suggested him to apply fertilizer in recommend...</td>\n",
       "    </tr>\n",
       "    <tr>\n",
       "      <th>2</th>\n",
       "      <td>asking about how to avail kisan credit card lo...</td>\n",
       "      <td>suggested to consult with officer-marketing an...</td>\n",
       "    </tr>\n",
       "    <tr>\n",
       "      <th>3</th>\n",
       "      <td>asking about source of early ahu rice variety</td>\n",
       "      <td>suggested to take early ahu rice variety from ...</td>\n",
       "    </tr>\n",
       "    <tr>\n",
       "      <th>4</th>\n",
       "      <td>asking that he has not got proper friut from h...</td>\n",
       "      <td>suggested him to aplly recommended fertilizer ...</td>\n",
       "    </tr>\n",
       "    <tr>\n",
       "      <th>...</th>\n",
       "      <td>...</td>\n",
       "      <td>...</td>\n",
       "    </tr>\n",
       "    <tr>\n",
       "      <th>178810</th>\n",
       "      <td>asking about plant growth hormone in chick pea</td>\n",
       "      <td>spray planofix @ 1ml/l.</td>\n",
       "    </tr>\n",
       "    <tr>\n",
       "      <th>178811</th>\n",
       "      <td>farmer  asking  query about bootle gourd.</td>\n",
       "      <td>apply  mahafol/bipuk @ 3gm/lit.</td>\n",
       "    </tr>\n",
       "    <tr>\n",
       "      <th>178812</th>\n",
       "      <td>asking thathis 8-month pregnant cow is sufferi...</td>\n",
       "      <td>tr.: 1.intacef tazo 3375mg 3 no.s @ 1 vial i/m...</td>\n",
       "    </tr>\n",
       "    <tr>\n",
       "      <th>178813</th>\n",
       "      <td>farmer asking query regarding sowing time of b...</td>\n",
       "      <td>sowing time of banana: march-may.\\npit size: 4...</td>\n",
       "    </tr>\n",
       "    <tr>\n",
       "      <th>178814</th>\n",
       "      <td>asking that his 2 goat are suffering.</td>\n",
       "      <td>tr.: 1. avil tab. 10 no.s @ 1 tab. orally twic...</td>\n",
       "    </tr>\n",
       "  </tbody>\n",
       "</table>\n",
       "<p>177068 rows × 2 columns</p>\n",
       "</div>"
      ],
      "text/plain": [
       "                                                questions  \\\n",
       "0       asking about the control measure for aphid inf...   \n",
       "1       asking about the control measure of flower dro...   \n",
       "2       asking about how to avail kisan credit card lo...   \n",
       "3           asking about source of early ahu rice variety   \n",
       "4       asking that he has not got proper friut from h...   \n",
       "...                                                   ...   \n",
       "178810     asking about plant growth hormone in chick pea   \n",
       "178811          farmer  asking  query about bootle gourd.   \n",
       "178812  asking thathis 8-month pregnant cow is sufferi...   \n",
       "178813  farmer asking query regarding sowing time of b...   \n",
       "178814              asking that his 2 goat are suffering.   \n",
       "\n",
       "                                                  answers  \n",
       "0       suggested him to spray rogor@2ml/lit.at evenin...  \n",
       "1       suggested him to apply fertilizer in recommend...  \n",
       "2       suggested to consult with officer-marketing an...  \n",
       "3       suggested to take early ahu rice variety from ...  \n",
       "4       suggested him to aplly recommended fertilizer ...  \n",
       "...                                                   ...  \n",
       "178810                            spray planofix @ 1ml/l.  \n",
       "178811                    apply  mahafol/bipuk @ 3gm/lit.  \n",
       "178812  tr.: 1.intacef tazo 3375mg 3 no.s @ 1 vial i/m...  \n",
       "178813  sowing time of banana: march-may.\\npit size: 4...  \n",
       "178814  tr.: 1. avil tab. 10 no.s @ 1 tab. orally twic...  \n",
       "\n",
       "[177068 rows x 2 columns]"
      ]
     },
     "execution_count": 30,
     "metadata": {},
     "output_type": "execute_result"
    }
   ],
   "source": [
    "df_with_letters = data[data['answers'].astype(str).apply(contains_alphabet)]\n",
    "df_with_letters"
   ]
  },
  {
   "cell_type": "code",
   "execution_count": 31,
   "metadata": {},
   "outputs": [
    {
     "data": {
      "text/html": [
       "<div>\n",
       "<style scoped>\n",
       "    .dataframe tbody tr th:only-of-type {\n",
       "        vertical-align: middle;\n",
       "    }\n",
       "\n",
       "    .dataframe tbody tr th {\n",
       "        vertical-align: top;\n",
       "    }\n",
       "\n",
       "    .dataframe thead th {\n",
       "        text-align: right;\n",
       "    }\n",
       "</style>\n",
       "<table border=\"1\" class=\"dataframe\">\n",
       "  <thead>\n",
       "    <tr style=\"text-align: right;\">\n",
       "      <th></th>\n",
       "      <th>questions</th>\n",
       "      <th>answers</th>\n",
       "    </tr>\n",
       "  </thead>\n",
       "  <tbody>\n",
       "    <tr>\n",
       "      <th>0</th>\n",
       "      <td>query regarding diarrhoea</td>\n",
       "      <td>anti diarrhoeal anti biotic steroid &amp;ors</td>\n",
       "    </tr>\n",
       "    <tr>\n",
       "      <th>1</th>\n",
       "      <td>asking about the control measure fungal wilt</td>\n",
       "      <td>application of captaf @ 2 gram per litre of water</td>\n",
       "    </tr>\n",
       "    <tr>\n",
       "      <th>2</th>\n",
       "      <td>asking about the control measure of downy mild...</td>\n",
       "      <td>suggested him to spray bavistin @1gm/lit of water</td>\n",
       "    </tr>\n",
       "    <tr>\n",
       "      <th>3</th>\n",
       "      <td>asking control measure of leaf curl in chilli</td>\n",
       "      <td>spray trifos 40 ec @ 1.5 ml per litre of water</td>\n",
       "    </tr>\n",
       "    <tr>\n",
       "      <th>4</th>\n",
       "      <td>querry regarding training of nursery raising</td>\n",
       "      <td>recommended to approach kvk located in pub dal...</td>\n",
       "    </tr>\n",
       "    <tr>\n",
       "      <th>...</th>\n",
       "      <td>...</td>\n",
       "      <td>...</td>\n",
       "    </tr>\n",
       "    <tr>\n",
       "      <th>95</th>\n",
       "      <td>asking for cultural practices</td>\n",
       "      <td>explain in details</td>\n",
       "    </tr>\n",
       "    <tr>\n",
       "      <th>96</th>\n",
       "      <td>asking for fertilizer dose of rice</td>\n",
       "      <td>for dwarf varieties- urea:ssp:mop 18:17:9 half...</td>\n",
       "    </tr>\n",
       "    <tr>\n",
       "      <th>97</th>\n",
       "      <td>asking for var</td>\n",
       "      <td>suggested him kufri jyoti, kufri megha and kuf...</td>\n",
       "    </tr>\n",
       "    <tr>\n",
       "      <th>98</th>\n",
       "      <td>asking for the control measure against fungal ...</td>\n",
       "      <td>suggested to drench the soil around the plant ...</td>\n",
       "    </tr>\n",
       "    <tr>\n",
       "      <th>99</th>\n",
       "      <td>regarding fertilizer dose of coconut</td>\n",
       "      <td>apply urea @ 1 kg,ssp @ 500gm ,mop @ 2kg and b...</td>\n",
       "    </tr>\n",
       "  </tbody>\n",
       "</table>\n",
       "<p>100 rows × 2 columns</p>\n",
       "</div>"
      ],
      "text/plain": [
       "                                            questions  \\\n",
       "0                           query regarding diarrhoea   \n",
       "1        asking about the control measure fungal wilt   \n",
       "2   asking about the control measure of downy mild...   \n",
       "3       asking control measure of leaf curl in chilli   \n",
       "4        querry regarding training of nursery raising   \n",
       "..                                                ...   \n",
       "95                      asking for cultural practices   \n",
       "96                 asking for fertilizer dose of rice   \n",
       "97                                     asking for var   \n",
       "98  asking for the control measure against fungal ...   \n",
       "99               regarding fertilizer dose of coconut   \n",
       "\n",
       "                                              answers  \n",
       "0            anti diarrhoeal anti biotic steroid &ors  \n",
       "1   application of captaf @ 2 gram per litre of water  \n",
       "2   suggested him to spray bavistin @1gm/lit of water  \n",
       "3      spray trifos 40 ec @ 1.5 ml per litre of water  \n",
       "4   recommended to approach kvk located in pub dal...  \n",
       "..                                                ...  \n",
       "95                                 explain in details  \n",
       "96  for dwarf varieties- urea:ssp:mop 18:17:9 half...  \n",
       "97  suggested him kufri jyoti, kufri megha and kuf...  \n",
       "98  suggested to drench the soil around the plant ...  \n",
       "99  apply urea @ 1 kg,ssp @ 500gm ,mop @ 2kg and b...  \n",
       "\n",
       "[100 rows x 2 columns]"
      ]
     },
     "execution_count": 31,
     "metadata": {},
     "output_type": "execute_result"
    }
   ],
   "source": [
    "from pprint import pprint\n",
    "sample_data = pd.read_csv(r\"C:\\Users\\amank\\Downloads\\Agri-chatbot-versions\\Agri-chatbot\\data\\sample_data.csv\")\n",
    "sample_data"
   ]
  },
  {
   "cell_type": "code",
   "execution_count": 32,
   "metadata": {},
   "outputs": [],
   "source": [
    "import random\n",
    "test_data = df_with_letters.sample(n=30000, random_state=42)\n",
    "test_data.reset_index(drop=True, inplace=True)\n"
   ]
  },
  {
   "cell_type": "code",
   "execution_count": 33,
   "metadata": {},
   "outputs": [
    {
     "data": {
      "text/html": [
       "<div>\n",
       "<style scoped>\n",
       "    .dataframe tbody tr th:only-of-type {\n",
       "        vertical-align: middle;\n",
       "    }\n",
       "\n",
       "    .dataframe tbody tr th {\n",
       "        vertical-align: top;\n",
       "    }\n",
       "\n",
       "    .dataframe thead th {\n",
       "        text-align: right;\n",
       "    }\n",
       "</style>\n",
       "<table border=\"1\" class=\"dataframe\">\n",
       "  <thead>\n",
       "    <tr style=\"text-align: right;\">\n",
       "      <th></th>\n",
       "      <th>questions</th>\n",
       "      <th>answers</th>\n",
       "    </tr>\n",
       "  </thead>\n",
       "  <tbody>\n",
       "    <tr>\n",
       "      <th>0</th>\n",
       "      <td>query regarding diarrhoea</td>\n",
       "      <td>anti diarrhoeal anti biotic steroid &amp;ors</td>\n",
       "    </tr>\n",
       "    <tr>\n",
       "      <th>1</th>\n",
       "      <td>asking about the control measure fungal wilt</td>\n",
       "      <td>application of captaf @ 2 gram per litre of water</td>\n",
       "    </tr>\n",
       "    <tr>\n",
       "      <th>2</th>\n",
       "      <td>asking about the control measure of downy mild...</td>\n",
       "      <td>suggested him to spray bavistin @1gm/lit of water</td>\n",
       "    </tr>\n",
       "    <tr>\n",
       "      <th>3</th>\n",
       "      <td>asking control measure of leaf curl in chilli</td>\n",
       "      <td>spray trifos 40 ec @ 1.5 ml per litre of water</td>\n",
       "    </tr>\n",
       "    <tr>\n",
       "      <th>4</th>\n",
       "      <td>querry regarding training of nursery raising</td>\n",
       "      <td>recommended to approach kvk located in pub dal...</td>\n",
       "    </tr>\n",
       "    <tr>\n",
       "      <th>...</th>\n",
       "      <td>...</td>\n",
       "      <td>...</td>\n",
       "    </tr>\n",
       "    <tr>\n",
       "      <th>29995</th>\n",
       "      <td>query regarding cultural practice of paddy</td>\n",
       "      <td>explained details</td>\n",
       "    </tr>\n",
       "    <tr>\n",
       "      <th>29996</th>\n",
       "      <td>control of white fly in chilli</td>\n",
       "      <td>spray malathion 50 ec @ 2 ml per liter of water</td>\n",
       "    </tr>\n",
       "    <tr>\n",
       "      <th>29997</th>\n",
       "      <td>control measure of leaf curling in chilli</td>\n",
       "      <td>spray 'rogor' @ 2 ml per litre of water</td>\n",
       "    </tr>\n",
       "    <tr>\n",
       "      <th>29998</th>\n",
       "      <td>asking about use of bio-activator in brinjal</td>\n",
       "      <td>apply mahaphal @ 2 ml per litre of water</td>\n",
       "    </tr>\n",
       "    <tr>\n",
       "      <th>29999</th>\n",
       "      <td>query regarding management of leaf spot in chi...</td>\n",
       "      <td>advise to spray carbendazim @ 2g/lt of water.</td>\n",
       "    </tr>\n",
       "  </tbody>\n",
       "</table>\n",
       "<p>30000 rows × 2 columns</p>\n",
       "</div>"
      ],
      "text/plain": [
       "                                               questions  \\\n",
       "0                              query regarding diarrhoea   \n",
       "1           asking about the control measure fungal wilt   \n",
       "2      asking about the control measure of downy mild...   \n",
       "3          asking control measure of leaf curl in chilli   \n",
       "4           querry regarding training of nursery raising   \n",
       "...                                                  ...   \n",
       "29995         query regarding cultural practice of paddy   \n",
       "29996                     control of white fly in chilli   \n",
       "29997          control measure of leaf curling in chilli   \n",
       "29998       asking about use of bio-activator in brinjal   \n",
       "29999  query regarding management of leaf spot in chi...   \n",
       "\n",
       "                                                 answers  \n",
       "0               anti diarrhoeal anti biotic steroid &ors  \n",
       "1      application of captaf @ 2 gram per litre of water  \n",
       "2      suggested him to spray bavistin @1gm/lit of water  \n",
       "3         spray trifos 40 ec @ 1.5 ml per litre of water  \n",
       "4      recommended to approach kvk located in pub dal...  \n",
       "...                                                  ...  \n",
       "29995                                  explained details  \n",
       "29996    spray malathion 50 ec @ 2 ml per liter of water  \n",
       "29997            spray 'rogor' @ 2 ml per litre of water  \n",
       "29998           apply mahaphal @ 2 ml per litre of water  \n",
       "29999      advise to spray carbendazim @ 2g/lt of water.  \n",
       "\n",
       "[30000 rows x 2 columns]"
      ]
     },
     "execution_count": 33,
     "metadata": {},
     "output_type": "execute_result"
    }
   ],
   "source": [
    "test_data"
   ]
  },
  {
   "cell_type": "code",
   "execution_count": 34,
   "metadata": {},
   "outputs": [],
   "source": [
    "test_data.to_csv(r\"C:\\Users\\amank\\Downloads\\Agri-chatbot-versions\\testCode\\data\\sample_test_data_30000.csv\", index=False)"
   ]
  },
  {
   "cell_type": "code",
   "execution_count": 63,
   "metadata": {},
   "outputs": [
    {
     "data": {
      "text/html": [
       "<div>\n",
       "<style scoped>\n",
       "    .dataframe tbody tr th:only-of-type {\n",
       "        vertical-align: middle;\n",
       "    }\n",
       "\n",
       "    .dataframe tbody tr th {\n",
       "        vertical-align: top;\n",
       "    }\n",
       "\n",
       "    .dataframe thead th {\n",
       "        text-align: right;\n",
       "    }\n",
       "</style>\n",
       "<table border=\"1\" class=\"dataframe\">\n",
       "  <thead>\n",
       "    <tr style=\"text-align: right;\">\n",
       "      <th></th>\n",
       "      <th>questions</th>\n",
       "      <th>answers</th>\n",
       "    </tr>\n",
       "  </thead>\n",
       "  <tbody>\n",
       "    <tr>\n",
       "      <th>35</th>\n",
       "      <td>asked about the suitable variety of brinjal fo...</td>\n",
       "      <td>suggested to use following varieties, pusa pur...</td>\n",
       "    </tr>\n",
       "    <tr>\n",
       "      <th>2675</th>\n",
       "      <td>asking about the variety of brinjal and pumpkin</td>\n",
       "      <td>brinjal- pusa purple cluster , borbengena , ku...</td>\n",
       "    </tr>\n",
       "    <tr>\n",
       "      <th>2683</th>\n",
       "      <td>asking variety of brinjal and pumkin</td>\n",
       "      <td>suggested him var. like pusa kranti and pusa p...</td>\n",
       "    </tr>\n",
       "    <tr>\n",
       "      <th>2687</th>\n",
       "      <td>asking variety of brinjal</td>\n",
       "      <td>suggested him pusa purple long and pusa kranti</td>\n",
       "    </tr>\n",
       "    <tr>\n",
       "      <th>6231</th>\n",
       "      <td>asking about some variety of brinjal</td>\n",
       "      <td>suggested to grow variety like-pusa purple kra...</td>\n",
       "    </tr>\n",
       "    <tr>\n",
       "      <th>...</th>\n",
       "      <td>...</td>\n",
       "      <td>...</td>\n",
       "    </tr>\n",
       "    <tr>\n",
       "      <th>165362</th>\n",
       "      <td>asking about some variety of brinjal</td>\n",
       "      <td>suggested to grow variety like-pusa purple kra...</td>\n",
       "    </tr>\n",
       "    <tr>\n",
       "      <th>167416</th>\n",
       "      <td>asking about some variety of brinjal</td>\n",
       "      <td>suggested to grow variety like-pusa purple kra...</td>\n",
       "    </tr>\n",
       "    <tr>\n",
       "      <th>167860</th>\n",
       "      <td>asking for name of variety of brinjal</td>\n",
       "      <td>recommended him pusa purple long</td>\n",
       "    </tr>\n",
       "    <tr>\n",
       "      <th>169797</th>\n",
       "      <td>query about long variety of brinjal.</td>\n",
       "      <td>long variety brinjal: pusa purple cluster, pus...</td>\n",
       "    </tr>\n",
       "    <tr>\n",
       "      <th>173021</th>\n",
       "      <td>asking about some variety of brinjal.</td>\n",
       "      <td>suggested to grow variety like-pusa purple kra...</td>\n",
       "    </tr>\n",
       "  </tbody>\n",
       "</table>\n",
       "<p>99 rows × 2 columns</p>\n",
       "</div>"
      ],
      "text/plain": [
       "                                                questions  \\\n",
       "35      asked about the suitable variety of brinjal fo...   \n",
       "2675      asking about the variety of brinjal and pumpkin   \n",
       "2683                 asking variety of brinjal and pumkin   \n",
       "2687                            asking variety of brinjal   \n",
       "6231                 asking about some variety of brinjal   \n",
       "...                                                   ...   \n",
       "165362               asking about some variety of brinjal   \n",
       "167416               asking about some variety of brinjal   \n",
       "167860              asking for name of variety of brinjal   \n",
       "169797               query about long variety of brinjal.   \n",
       "173021              asking about some variety of brinjal.   \n",
       "\n",
       "                                                  answers  \n",
       "35      suggested to use following varieties, pusa pur...  \n",
       "2675    brinjal- pusa purple cluster , borbengena , ku...  \n",
       "2683    suggested him var. like pusa kranti and pusa p...  \n",
       "2687       suggested him pusa purple long and pusa kranti  \n",
       "6231    suggested to grow variety like-pusa purple kra...  \n",
       "...                                                   ...  \n",
       "165362  suggested to grow variety like-pusa purple kra...  \n",
       "167416  suggested to grow variety like-pusa purple kra...  \n",
       "167860                   recommended him pusa purple long  \n",
       "169797  long variety brinjal: pusa purple cluster, pus...  \n",
       "173021  suggested to grow variety like-pusa purple kra...  \n",
       "\n",
       "[99 rows x 2 columns]"
      ]
     },
     "execution_count": 63,
     "metadata": {},
     "output_type": "execute_result"
    }
   ],
   "source": [
    "brinjal_rows = data[data['questions'].str.contains(\"variety of brinjal\", case=False, na=False)]\n",
    "brinjal_rows"
   ]
  },
  {
   "cell_type": "code",
   "execution_count": 62,
   "metadata": {},
   "outputs": [
    {
     "data": {
      "text/plain": [
       "'asked about the suitable variety of brinjal for assam condition'"
      ]
     },
     "execution_count": 62,
     "metadata": {},
     "output_type": "execute_result"
    }
   ],
   "source": [
    "brinjal_rows.iloc[1][\"questions\"]"
   ]
  },
  {
   "cell_type": "code",
   "execution_count": 1,
   "metadata": {},
   "outputs": [
    {
     "name": "stdout",
     "output_type": "stream",
     "text": [
      "False\n"
     ]
    }
   ],
   "source": [
    "import torch\n",
    "print(torch.cuda.is_available())  # Should return True\n",
    "# print(torch.cuda.get_device_name(0))  # Verify GPU model\n"
   ]
  },
  {
   "cell_type": "code",
   "execution_count": null,
   "metadata": {},
   "outputs": [
    {
     "name": "stdout",
     "output_type": "stream",
     "text": [
      "Using device: cpu\n",
      "Model device: cpu\n"
     ]
    },
    {
     "name": "stderr",
     "output_type": "stream",
     "text": [
      "Batches:   0%|          | 1/350 [01:36<9:23:50, 96.94s/it]"
     ]
    }
   ],
   "source": [
    "import torch\n",
    "from sentence_transformers import SentenceTransformer, util\n",
    "\n",
    "df = data.copy()\n",
    "\n",
    "df['qa_combined'] = df['questions'].str.lower().str.strip() + ' ' + df['answers'].str.lower().str.strip()\n",
    "\n",
    "device = 'cuda' if torch.cuda.is_available() else 'cpu'\n",
    "\n",
    "model = SentenceTransformer('all-MiniLM-L6-v2').to(device)\n",
    "\n",
    "print(f\"Using device: {device}\")\n",
    "print(f\"Model device: {next(model.parameters()).device}\")\n",
    "\n",
    "\n",
    "\n",
    "embeddings = model.encode(\n",
    "    df['qa_combined'],\n",
    "    convert_to_tensor=True,\n",
    "    device=device,\n",
    "    show_progress_bar=True,\n",
    "    batch_size=512,\n",
    ")\n",
    "cosine_scores = util.pytorch_cos_sim(embeddings, embeddings)\n",
    "print(f\"Embeddings device: {embeddings.device}\")\n",
    "to_drop = set()\n",
    "for i in range(len(df)):\n",
    "    if i in to_drop:\n",
    "        continue\n",
    "    for j in range(i+1, len(df)):\n",
    "        if cosine_scores[i][j] > 0.95:\n",
    "            to_drop.add(j)\n",
    "\n",
    "df_dedup = df.drop(index=list(to_drop)).reset_index(drop=True)\n",
    "\n",
    "print(f\"Original rows: {len(df)}\")\n",
    "print(f\"Rows after deduplication: {len(df_dedup)}\")"
   ]
  },
  {
   "cell_type": "code",
   "execution_count": 69,
   "metadata": {},
   "outputs": [
    {
     "name": "stdout",
     "output_type": "stream",
     "text": [
      "Cosine similarity score: 0.7249\n"
     ]
    }
   ],
   "source": [
    "from sentence_transformers import SentenceTransformer, util\n",
    "\n",
    "q1 = \"asking about treatment of diarrhoea in cow.\"\n",
    "a1 = \"suggested to administer neblon powder @50 gm twice daily.\"\n",
    "\n",
    "q2 = \"asking about treatment diarrhoea in cow.\"\n",
    "a2 = \"suggested to administer nt-zole bolus @ 2 bolus for 3 days.\"\n",
    "\n",
    "text1 = q1.lower().strip() + \" \" + a1.lower().strip()\n",
    "text2 = q2.lower().strip() + \" \" + a2.lower().strip()\n",
    "\n",
    "model = SentenceTransformer('all-MiniLM-L6-v2')\n",
    "\n",
    "embedding1 = model.encode(text1, convert_to_tensor=True)\n",
    "embedding2 = model.encode(text2, convert_to_tensor=True)\n",
    "\n",
    "cosine_score = util.pytorch_cos_sim(embedding1, embedding2)\n",
    "\n",
    "print(f\"Cosine similarity score: {cosine_score.item():.4f}\")\n"
   ]
  }
 ],
 "metadata": {
  "kernelspec": {
   "display_name": "Python 3",
   "language": "python",
   "name": "python3"
  },
  "language_info": {
   "codemirror_mode": {
    "name": "ipython",
    "version": 3
   },
   "file_extension": ".py",
   "mimetype": "text/x-python",
   "name": "python",
   "nbconvert_exporter": "python",
   "pygments_lexer": "ipython3",
   "version": "3.11.9"
  }
 },
 "nbformat": 4,
 "nbformat_minor": 2
}
